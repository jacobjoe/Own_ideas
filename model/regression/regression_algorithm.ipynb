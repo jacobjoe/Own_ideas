{
 "cells": [
  {
   "cell_type": "markdown",
   "metadata": {},
   "source": [
    "# Regression Algorithm"
   ]
  },
  {
   "cell_type": "markdown",
   "metadata": {},
   "source": [
    "### [G Henry Jacob](https://www.linkedin.com/in/henry-jacob-96872918a/)"
   ]
  },
  {
   "cell_type": "markdown",
   "metadata": {},
   "source": [
    "17th October 2021"
   ]
  },
  {
   "cell_type": "markdown",
   "metadata": {},
   "source": [
    "### Introduction"
   ]
  },
  {
   "cell_type": "markdown",
   "metadata": {},
   "source": [
    "Hey! Thank you for viewing my algorithm. I built this algorithm based on percentage difference from Independent (X) to dependent (y). Here I created a [regression_algorithm.pdf](https://github.com/jacobjoe/Own_ideas/blob/main/model/regression/regression_algorithm.pdf), which will help you to understand the step by step procedure numerically as well as visually."
   ]
  },
  {
   "cell_type": "markdown",
   "metadata": {},
   "source": [
    "#### Alphanumeric used in comment!!"
   ]
  },
  {
   "cell_type": "markdown",
   "metadata": {},
   "source": [
    "Alphanumeric used to denote the existing values used or the value which will be used further with same alphanumeric values (for easy understanding) example: A1, B1, A2, B2…"
   ]
  },
  {
   "cell_type": "markdown",
   "metadata": {},
   "source": [
    "‘A’ series alphanumeric (example: A1, --A1, A2, --A2, A3, --A3…) denotes the values, variables, list, function, etc., to easily identify where we derive and where we pass or use the same."
   ]
  },
  {
   "cell_type": "markdown",
   "metadata": {},
   "source": [
    "1. If it started with ‘A’ (example: A1, A2, A3…) then keep in mind we are going to use the same in upcoming using ‘--’ before the same"
   ]
  },
  {
   "cell_type": "markdown",
   "metadata": {},
   "source": [
    "2.\tIf it started with ‘--’ (example: --A1, --A2, --A3…) then keep in mind we already derived or did something and pass or use the same here (vice versa of 1)."
   ]
  },
  {
   "cell_type": "markdown",
   "metadata": {},
   "source": [
    "'B' series alphanumeric (example: B1, B2, B3…) denotes they are shown visually in [regression_algorithm.pdf](https://github.com/jacobjoe/Own_ideas/blob/main/model/regression/regression_algorithm.pdf) with the same alphanumeric values."
   ]
  },
  {
   "cell_type": "markdown",
   "metadata": {},
   "source": [
    "---"
   ]
  },
  {
   "cell_type": "markdown",
   "metadata": {},
   "source": [
    "### Packages need or used:"
   ]
  },
  {
   "cell_type": "code",
   "execution_count": null,
   "metadata": {},
   "outputs": [],
   "source": [
    "import numpy as np\n",
    "import pandas as pd\n",
    "import matplotlib.pyplot as plt\n",
    "%matplotlib inline\n",
    "from sklearn.model_selection import train_test_split\n",
    "from sklearn.metrics import mean_squared_error"
   ]
  },
  {
   "cell_type": "markdown",
   "metadata": {},
   "source": [
    "### Training"
   ]
  },
  {
   "cell_type": "code",
   "execution_count": null,
   "metadata": {},
   "outputs": [],
   "source": [
    "# Function for training\n",
    "def fit(x, y, space_val = 5):\n",
    "    try:\n",
    "        # To get the column names\n",
    "        x_col_name = X_train.name\n",
    "        y_col_name = y_train.name\n",
    "        # To create data frame on given training data with column names\n",
    "        df = pd.DataFrame({x_col_name:x, y_col_name:y})\n",
    "        # To get minimum and maximum value of training data\n",
    "        x_min = float(x.min())\n",
    "        x_max = float(x.max())\n",
    "        # Calculate number of spaces based on number of data\n",
    "        space = (len(x)//space_val) + 1\n",
    "        # Variable to have list of evenly spaced numbers between X_min and X_max with space (Total number of spaces we want)\n",
    "        x_spaces = list(np.linspace(x_min, x_max, space))\n",
    "        # X_mean_vals list will contain average of X_train data which will lie between each space.\n",
    "        x_mean_vals = []\n",
    "        # y_mean_vals list will contain average of y_train data related to X_train for each space.\n",
    "        y_mean_vals = []\n",
    "        # Percentage_vals will contain average of percentage of X to y for data (X_train to y_train) which lied between each space.\n",
    "        percentage_vals = []\n",
    "        # Overall percentage will contain mean of percentage of X to y for all data (X_train to y_train) which will be used further\n",
    "        # A1 B1 (overall_percentage)\n",
    "        overall_percentage = []\n",
    "        \n",
    "        # For loop to get particular data frame each time where X_train lie between each space.\n",
    "        # B2 (for loop)\n",
    "        for i in range(1, len(x_spaces)):\n",
    "            if i == 1:\n",
    "                # B3 (.0000000001)\n",
    "                dd = df[df[x_col_name] < x_spaces[i]+.0000000001]\n",
    "                \n",
    "            elif i == len(x_spaces) - 1:\n",
    "                dd = df[df[x_col_name] > x_spaces[i - 1]]\n",
    "                \n",
    "            else:\n",
    "                dd = df[(df[x_col_name] < x_spaces[i]+.0000000001) & (df[x_col_name] > x_spaces[i-1])]\n",
    "\n",
    "            # List to get X_train values lie in taken dataframe(dd).\n",
    "            x_1 = []\n",
    "            # List to get y_train values lie in taken dataframe(dd).\n",
    "            y_1 = []\n",
    "            # List to get percentage difference for each X_train value to y_train value lie in taken dataframe(dd).\n",
    "            percent_list = []\n",
    "            \n",
    "            # For loop to get X_train value, y_train value, percentage difference for each data (X_train to y_train) in taken dataframe(dd).\n",
    "            for k in list(dd.index):\n",
    "                x_value = dd.loc[k, x_col_name]\n",
    "                y_value = dd.loc[k, y_col_name]\n",
    "                x_1.append(x_value)\n",
    "                y_1.append(y_value)\n",
    "                # Calculate percentage difference for each data (X_train to y_train) in taken dataframe(dd).\n",
    "                # B4 (perc calculation)\n",
    "                perc = (y_value * 100)/x_value\n",
    "                percent_list.append(perc)\n",
    "                # A1 (overall_percentage)\n",
    "                overall_percentage.append(perc)\n",
    "            \n",
    "            # If condition to append mean values of X_train, y_train, percentage difference from the taken dataframe(dd) only if the data present.\n",
    "            if len(x_1) > 0:\n",
    "                percentage_vals.append(np.mean(percent_list))\n",
    "                x_mean_vals.append(np.mean(x_1))\n",
    "                y_mean_vals.append(np.mean(y_1))\n",
    "                \n",
    "            # Else condition to append string value ‘nan’ if there is no data present in taken dataframe(dd).\n",
    "            # It will replace further.\n",
    "            # A5 B5 ('nan')\n",
    "            else:\n",
    "                percentage_vals.append('nan')\n",
    "                x_mean_vals.append('nan')\n",
    "                y_mean_vals.append('nan')\n",
    "\n",
    "                \n",
    "        # List to get indexes of starting ‘nan’ values for consecutive ‘nan’ or a single ‘nan’.\n",
    "        start = []\n",
    "        # List to get indexes of ending ‘nan’ +1 values for consecutive ‘nan’ or a single ‘nan’.\n",
    "        end = []\n",
    "        \n",
    "        # For loop to get start index and end index +1 of ‘nan’.\n",
    "        # It will be useful to replace null values (‘nan’) further.\n",
    "        # --A5 (getting index using 'nan')\n",
    "        # A6 (start, end)\n",
    "        for i in range(len(x_mean_vals)):\n",
    "            if x_mean_vals[i] == 'nan':\n",
    "                \n",
    "                if x_mean_vals[i - 1] == 'nan':\n",
    "                    pass\n",
    "                \n",
    "                else:\n",
    "                    start.append(i)\n",
    "                    \n",
    "            else:\n",
    "                if x_mean_vals[i - 1] == 'nan':\n",
    "                    end.append(i)\n",
    "                    \n",
    "                    \n",
    "        # For loop to replace ‘nan’ with related value.\n",
    "        # --A5 ('nan' replaced)\n",
    "        # --A6 ('nan' replaced with the use of start and end)\n",
    "        # B7 (for loop)\n",
    "        if len(start) > 0:\n",
    "            for i in range(len(start)):\n",
    "                for j in range(start[i], end[i]):\n",
    "                    x_mean_vals[j] = (x_mean_vals[start[i] - 1] + x_mean_vals[end[i]])/2\n",
    "                    y_mean_vals[j] = (y_mean_vals[start[i] - 1] + y_mean_vals[end[i]])/2\n",
    "                    percentage_vals[j] = (percentage_vals[start[i] - 1] + percentage_vals[end[i]])/2\n",
    "\n",
    "        # Return \n",
    "        # To plot: x_mean_vals, y_mean_vals\n",
    "        # To predict: percentage vals\n",
    "        # X_spaces: used to find X_test data lie in which space\n",
    "        # 1.average(Overall percentage): used to predict \n",
    "        # 2.if X_test data is less than minimum of X_train data (X_test < X_min (train)) or \n",
    "        # 3.X_test data is greater than maximum of X_train data (X_test > X_max (train)).  \n",
    "        # 4.ie if the test data does not lie in spaces it uses overall percentage to predict output.\n",
    "        # A8 B8 (return)\n",
    "        return x_mean_vals, y_mean_vals, percentage_vals, x_spaces, np.mean(overall_percentage)\n",
    "    \n",
    "    except Exception:\n",
    "        print('Kindly pass pandas core series which taken from the pandas dataframe')\n"
   ]
  },
  {
   "cell_type": "code",
   "execution_count": null,
   "metadata": {},
   "outputs": [],
   "source": [
    "# Pass data through defined function (fit) and get the output. \n",
    "X_mean_values, y_mean_values, percentage_values, x_spaces, total_mean_percentage = fit(X_train, y_train)"
   ]
  },
  {
   "cell_type": "markdown",
   "metadata": {},
   "source": [
    "### Testing"
   ]
  },
  {
   "cell_type": "code",
   "execution_count": 1,
   "metadata": {},
   "outputs": [],
   "source": [
    "# Function for testing\n",
    "def predict(x, x_spaces, percentage_vals, tot_mean_perc):\n",
    "    # To store predicted values.\n",
    "    predicted = []\n",
    "    \n",
    "    try:\n",
    "        # --A8 (x_spaces used)\n",
    "        for i in x:\n",
    "            # --A1, --A8 (overall_percentage used)\n",
    "            # B9 (if)\n",
    "            if (i < x_spaces[0]) or (i == x_spaces[0]) or (i > x_spaces[-1]):\n",
    "                predicted.append((tot_mean_perc * i)/100)\n",
    "            \n",
    "            # --A8 (percentage_vals used)\n",
    "            # B10\n",
    "            else:\n",
    "                for j in range(len(x_spaces)-1):\n",
    "                    if (i > x_spaces[j]) & (i < x_spaces[j+1]) or(i == x_spaces[j+1]):\n",
    "                        predicted.append((i * percentage_vals[j])/100)\n",
    "                        \n",
    "        # return predicted output list\n",
    "        return predicted\n",
    "    \n",
    "    except TypeError:\n",
    "        print('Kindly pass pandas core series which taken from the pandas dataframe to fit')\n"
   ]
  },
  {
   "cell_type": "code",
   "execution_count": null,
   "metadata": {},
   "outputs": [],
   "source": [
    "# Pass data through defined function (predict) and get the output. \n",
    "predict_output = predict(X_test, x_spaces, percentage_values, total_mean_percentage)"
   ]
  },
  {
   "cell_type": "code",
   "execution_count": null,
   "metadata": {},
   "outputs": [],
   "source": [
    "# Print statement to print root mean squared error.\n",
    "print(np.sqrt(mean_squared_error(y_test, predict_output)))"
   ]
  },
  {
   "cell_type": "markdown",
   "metadata": {},
   "source": [
    "### Plotting"
   ]
  },
  {
   "cell_type": "code",
   "execution_count": null,
   "metadata": {},
   "outputs": [],
   "source": [
    "# It may look like this if we try to plot regression line.\n",
    "# Assumption\n",
    "# --A8 (X_mean_vals, y_mean_vals used to plot)\n",
    "def train_plot(x_mean_vals, y_mean_vals, x_data, y_data):\n",
    "    plt.figure(figsize=(12, 8))\n",
    "    plt.scatter(x_data, y_data, color = 'green', label = 'Training data')\n",
    "    plt.plot(x_mean_vals, y_mean_vals, color = 'blue', label = 'Regression line')\n",
    "    plt.title('Regression Plot', size = 15)\n",
    "    plt.legend()\n",
    "    plt.show()\n"
   ]
  },
  {
   "cell_type": "code",
   "execution_count": null,
   "metadata": {},
   "outputs": [],
   "source": [
    "# Pass data through defined function (train_plot).\n",
    "train_plot(X_mean_values, y_mean_values, X_train, y_train)"
   ]
  },
  {
   "cell_type": "markdown",
   "metadata": {},
   "source": [
    "It won't follow a linear line as Linear regression, Because Mean of X and y values used to plot the line based on that particular linspace."
   ]
  },
  {
   "cell_type": "code",
   "execution_count": null,
   "metadata": {},
   "outputs": [],
   "source": [
    "# To see the difference between actual and predicted output visually.\n",
    "# B11\n",
    "def plot_difference(x_test, y_test, x_test_1, y_predict):\n",
    "    plt.figure(figsize = (12, 8))\n",
    "    plt.scatter(x_test, y_test, color = 'blue', alpha=.5, label = 'Original')\n",
    "    plt.scatter(x_test_1, y_predict, color = 'red', alpha=.5, label = 'Predicted')\n",
    "    plt.title('Difference between Actual and Predicted')\n",
    "    plt.legend()\n",
    "    plt.show()\n",
    "    "
   ]
  },
  {
   "cell_type": "code",
   "execution_count": null,
   "metadata": {},
   "outputs": [],
   "source": [
    "# Pass data through defined function (plot_difference).\n",
    "plot_difference(X_test, y_test, X_test, predict_output)"
   ]
  },
  {
   "cell_type": "markdown",
   "metadata": {},
   "source": [
    "---"
   ]
  },
  {
   "cell_type": "markdown",
   "metadata": {},
   "source": [
    "Thank you so much for viewed my algorithm. I used my algorithm, fit, and predict output for some data and compared with Linear regression. Here is the [output](https://github.com/jacobjoe/Own_ideas/tree/main/model/regression/comparison)"
   ]
  },
  {
   "cell_type": "markdown",
   "metadata": {},
   "source": [
    "---"
   ]
  }
 ],
 "metadata": {
  "kernelspec": {
   "display_name": "Python 3",
   "language": "python",
   "name": "python3"
  },
  "language_info": {
   "codemirror_mode": {
    "name": "ipython",
    "version": 3
   },
   "file_extension": ".py",
   "mimetype": "text/x-python",
   "name": "python",
   "nbconvert_exporter": "python",
   "pygments_lexer": "ipython3",
   "version": "3.8.5"
  }
 },
 "nbformat": 4,
 "nbformat_minor": 4
}
