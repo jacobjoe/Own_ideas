{
 "cells": [
  {
   "cell_type": "markdown",
   "metadata": {},
   "source": [
    "# Comparison on advertising dataset"
   ]
  },
  {
   "cell_type": "markdown",
   "metadata": {},
   "source": [
    "### Linear regression"
   ]
  },
  {
   "cell_type": "code",
   "execution_count": 1,
   "metadata": {},
   "outputs": [],
   "source": [
    "import numpy as np\n",
    "import pandas as pd\n",
    "import matplotlib.pyplot as plt\n",
    "%matplotlib inline"
   ]
  },
  {
   "cell_type": "code",
   "execution_count": 2,
   "metadata": {},
   "outputs": [
    {
     "data": {
      "text/html": [
       "<div>\n",
       "<style scoped>\n",
       "    .dataframe tbody tr th:only-of-type {\n",
       "        vertical-align: middle;\n",
       "    }\n",
       "\n",
       "    .dataframe tbody tr th {\n",
       "        vertical-align: top;\n",
       "    }\n",
       "\n",
       "    .dataframe thead th {\n",
       "        text-align: right;\n",
       "    }\n",
       "</style>\n",
       "<table border=\"1\" class=\"dataframe\">\n",
       "  <thead>\n",
       "    <tr style=\"text-align: right;\">\n",
       "      <th></th>\n",
       "      <th>TV</th>\n",
       "      <th>Radio</th>\n",
       "      <th>Newspaper</th>\n",
       "      <th>Sales</th>\n",
       "    </tr>\n",
       "  </thead>\n",
       "  <tbody>\n",
       "    <tr>\n",
       "      <th>0</th>\n",
       "      <td>230.1</td>\n",
       "      <td>37.8</td>\n",
       "      <td>69.2</td>\n",
       "      <td>22.1</td>\n",
       "    </tr>\n",
       "    <tr>\n",
       "      <th>1</th>\n",
       "      <td>44.5</td>\n",
       "      <td>39.3</td>\n",
       "      <td>45.1</td>\n",
       "      <td>10.4</td>\n",
       "    </tr>\n",
       "  </tbody>\n",
       "</table>\n",
       "</div>"
      ],
      "text/plain": [
       "      TV  Radio  Newspaper  Sales\n",
       "0  230.1   37.8       69.2   22.1\n",
       "1   44.5   39.3       45.1   10.4"
      ]
     },
     "execution_count": 2,
     "metadata": {},
     "output_type": "execute_result"
    }
   ],
   "source": [
    "df = pd.read_csv('https://raw.githubusercontent.com/pramodini18/Simple-Linear-Regression/master/advertising.csv')\n",
    "df.head(2)"
   ]
  },
  {
   "cell_type": "code",
   "execution_count": 3,
   "metadata": {},
   "outputs": [
    {
     "data": {
      "image/png": "[encoded data removed]",
      "text/plain": [
       "<Figure size 864x576 with 1 Axes>"
      ]
     },
     "metadata": {
      "needs_background": "light"
     },
     "output_type": "display_data"
    }
   ],
   "source": [
    "plt.figure(figsize = (12, 8))\n",
    "plt.scatter(df['TV'], df['Sales'], color = 'red')\n",
    "plt.title('TV vs Sales', size = 15)\n",
    "plt.xlabel('TV')\n",
    "plt.ylabel('Sales')\n",
    "plt.show()"
   ]
  },
  {
   "cell_type": "code",
   "execution_count": 4,
   "metadata": {},
   "outputs": [],
   "source": [
    "X = df['TV'].values\n",
    "y = df['Sales'].values"
   ]
  },
  {
   "cell_type": "code",
   "execution_count": 5,
   "metadata": {},
   "outputs": [],
   "source": [
    "n = len(X)\n",
    "X = X.reshape(n, 1)"
   ]
  },
  {
   "cell_type": "code",
   "execution_count": 6,
   "metadata": {},
   "outputs": [],
   "source": [
    "from sklearn.model_selection import train_test_split"
   ]
  },
  {
   "cell_type": "code",
   "execution_count": 7,
   "metadata": {},
   "outputs": [],
   "source": [
    "X_train, X_test, y_train, y_test = train_test_split(X, y, test_size=.2, random_state=0)"
   ]
  },
  {
   "cell_type": "code",
   "execution_count": 8,
   "metadata": {},
   "outputs": [],
   "source": [
    "from sklearn.linear_model import LinearRegression"
   ]
  },
  {
   "cell_type": "code",
   "execution_count": 9,
   "metadata": {},
   "outputs": [],
   "source": [
    "lr = LinearRegression()"
   ]
  },
  {
   "cell_type": "code",
   "execution_count": 10,
   "metadata": {},
   "outputs": [
    {
     "data": {
      "text/plain": [
       "LinearRegression()"
      ]
     },
     "execution_count": 10,
     "metadata": {},
     "output_type": "execute_result"
    }
   ],
   "source": [
    "lr.fit(X_train, y_train)"
   ]
  },
  {
   "cell_type": "code",
   "execution_count": 11,
   "metadata": {},
   "outputs": [],
   "source": [
    "model_pred = lr.predict(X_test)"
   ]
  },
  {
   "cell_type": "code",
   "execution_count": 12,
   "metadata": {},
   "outputs": [],
   "source": [
    "from sklearn.metrics import mean_squared_error"
   ]
  },
  {
   "cell_type": "code",
   "execution_count": 13,
   "metadata": {},
   "outputs": [
    {
     "data": {
      "text/plain": [
       "2.5766434030651766"
      ]
     },
     "execution_count": 13,
     "metadata": {},
     "output_type": "execute_result"
    }
   ],
   "source": [
    "np.sqrt(mean_squared_error(y_test, model_pred))"
   ]
  },
  {
   "cell_type": "markdown",
   "metadata": {},
   "source": [
    "---"
   ]
  },
  {
   "cell_type": "markdown",
   "metadata": {},
   "source": [
    "### Own algorithm"
   ]
  },
  {
   "cell_type": "code",
   "execution_count": 14,
   "metadata": {},
   "outputs": [
    {
     "data": {
      "text/html": [
       "<div>\n",
       "<style scoped>\n",
       "    .dataframe tbody tr th:only-of-type {\n",
       "        vertical-align: middle;\n",
       "    }\n",
       "\n",
       "    .dataframe tbody tr th {\n",
       "        vertical-align: top;\n",
       "    }\n",
       "\n",
       "    .dataframe thead th {\n",
       "        text-align: right;\n",
       "    }\n",
       "</style>\n",
       "<table border=\"1\" class=\"dataframe\">\n",
       "  <thead>\n",
       "    <tr style=\"text-align: right;\">\n",
       "      <th></th>\n",
       "      <th>TV</th>\n",
       "      <th>Radio</th>\n",
       "      <th>Newspaper</th>\n",
       "      <th>Sales</th>\n",
       "    </tr>\n",
       "  </thead>\n",
       "  <tbody>\n",
       "    <tr>\n",
       "      <th>0</th>\n",
       "      <td>230.1</td>\n",
       "      <td>37.8</td>\n",
       "      <td>69.2</td>\n",
       "      <td>22.1</td>\n",
       "    </tr>\n",
       "    <tr>\n",
       "      <th>1</th>\n",
       "      <td>44.5</td>\n",
       "      <td>39.3</td>\n",
       "      <td>45.1</td>\n",
       "      <td>10.4</td>\n",
       "    </tr>\n",
       "  </tbody>\n",
       "</table>\n",
       "</div>"
      ],
      "text/plain": [
       "      TV  Radio  Newspaper  Sales\n",
       "0  230.1   37.8       69.2   22.1\n",
       "1   44.5   39.3       45.1   10.4"
      ]
     },
     "execution_count": 14,
     "metadata": {},
     "output_type": "execute_result"
    }
   ],
   "source": [
    "df.head(2)"
   ]
  },
  {
   "cell_type": "code",
   "execution_count": 15,
   "metadata": {},
   "outputs": [],
   "source": [
    "X = df['TV'].copy()\n",
    "y = df['Sales'].copy()"
   ]
  },
  {
   "cell_type": "code",
   "execution_count": 16,
   "metadata": {},
   "outputs": [],
   "source": [
    "X_train, X_test, y_train, y_test = train_test_split(X, y, test_size=.2, random_state=0)"
   ]
  },
  {
   "cell_type": "code",
   "execution_count": 17,
   "metadata": {},
   "outputs": [],
   "source": [
    "# Function for training\n",
    "def fit(x, y, space_val = 5):\n",
    "    try:\n",
    "        # To get the column names\n",
    "        x_col_name = X_train.name\n",
    "        y_col_name = y_train.name\n",
    "        # To create data frame on given training data with column names\n",
    "        df = pd.DataFrame({x_col_name:x, y_col_name:y})\n",
    "        # To get minimum and maximum value of training data\n",
    "        x_min = float(x.min())\n",
    "        x_max = float(x.max())\n",
    "        # Calculate number of spaces based on number of data\n",
    "        space = (len(x)//space_val) + 1\n",
    "        # Variable to have list of evenly spaced numbers between X_min and X_max with space (Total number of spaces we want)\n",
    "        x_spaces = list(np.linspace(x_min, x_max, space))\n",
    "        # X_mean_vals list will contain average of X_train data which will lie between each space.\n",
    "        x_mean_vals = []\n",
    "        # y_mean_vals list will contain average of y_train data related to X_train for each space.\n",
    "        y_mean_vals = []\n",
    "        # Percentage_vals will contain average of percentage of X to y for data (X_train to y_train) which lied between each space.\n",
    "        percentage_vals = []\n",
    "        # Overall percentage will contain mean of percentage of X to y for all data (X_train to y_train) which will be used further\n",
    "        # A1 B1 (overall_percentage)\n",
    "        overall_percentage = []\n",
    "        \n",
    "        # For loop to get particular data frame each time where X_train lie between each space.\n",
    "        # B2 (for loop)\n",
    "        for i in range(1, len(x_spaces)):\n",
    "            if i == 1:\n",
    "                # B3 (.0000000001)\n",
    "                dd = df[df[x_col_name] < x_spaces[i]+.0000000001]\n",
    "                \n",
    "            elif i == len(x_spaces) - 1:\n",
    "                dd = df[df[x_col_name] > x_spaces[i - 1]]\n",
    "                \n",
    "            else:\n",
    "                dd = df[(df[x_col_name] < x_spaces[i]+.0000000001) & (df[x_col_name] > x_spaces[i-1])]\n",
    "\n",
    "            # List to get X_train values lie in taken dataframe(dd).\n",
    "            x_1 = []\n",
    "            # List to get y_train values lie in taken dataframe(dd).\n",
    "            y_1 = []\n",
    "            # List to get percentage difference for each X_train value to y_train value lie in taken dataframe(dd).\n",
    "            percent_list = []\n",
    "            \n",
    "            # For loop to get X_train value, y_train value, percentage difference for each data (X_train to y_train) in taken dataframe(dd).\n",
    "            for k in list(dd.index):\n",
    "                x_value = dd.loc[k, x_col_name]\n",
    "                y_value = dd.loc[k, y_col_name]\n",
    "                x_1.append(x_value)\n",
    "                y_1.append(y_value)\n",
    "                # Calculate percentage difference for each data (X_train to y_train) in taken dataframe(dd).\n",
    "                # B4 (perc calculation)\n",
    "                perc = (y_value * 100)/x_value\n",
    "                percent_list.append(perc)\n",
    "                # A1 (overall_percentage)\n",
    "                overall_percentage.append(perc)\n",
    "            \n",
    "            # If condition to append mean values of X_train, y_train, percentage difference from the taken dataframe(dd) only if the data present.\n",
    "            if len(x_1) > 0:\n",
    "                percentage_vals.append(np.mean(percent_list))\n",
    "                x_mean_vals.append(np.mean(x_1))\n",
    "                y_mean_vals.append(np.mean(y_1))\n",
    "                \n",
    "            # Else condition to append string value ‘nan’ if there is no data present in taken dataframe(dd).\n",
    "            # It will replace further.\n",
    "            # A5 B5 ('nan')\n",
    "            else:\n",
    "                percentage_vals.append('nan')\n",
    "                x_mean_vals.append('nan')\n",
    "                y_mean_vals.append('nan')\n",
    "\n",
    "                \n",
    "        # List to get indexes of starting ‘nan’ values for consecutive ‘nan’ or a single ‘nan’.\n",
    "        start = []\n",
    "        # List to get indexes of ending ‘nan’ +1 values for consecutive ‘nan’ or a single ‘nan’.\n",
    "        end = []\n",
    "        \n",
    "        # For loop to get start index and end index +1 of ‘nan’.\n",
    "        # It will be useful to replace null values (‘nan’) further.\n",
    "        # --A5 (getting index using 'nan')\n",
    "        # A6 (start, end)\n",
    "        for i in range(len(x_mean_vals)):\n",
    "            if x_mean_vals[i] == 'nan':\n",
    "                \n",
    "                if x_mean_vals[i - 1] == 'nan':\n",
    "                    pass\n",
    "                \n",
    "                else:\n",
    "                    start.append(i)\n",
    "                    \n",
    "            else:\n",
    "                if x_mean_vals[i - 1] == 'nan':\n",
    "                    end.append(i)\n",
    "                    \n",
    "                    \n",
    "        # For loop to replace ‘nan’ with related value.\n",
    "        # --A5 ('nan' replaced)\n",
    "        # --A6 ('nan' replaced with the use of start and end)\n",
    "        # B7 (for loop)\n",
    "        if len(start) > 0:\n",
    "            for i in range(len(start)):\n",
    "                for j in range(start[i], end[i]):\n",
    "                    x_mean_vals[j] = (x_mean_vals[start[i] - 1] + x_mean_vals[end[i]])/2\n",
    "                    y_mean_vals[j] = (y_mean_vals[start[i] - 1] + y_mean_vals[end[i]])/2\n",
    "                    percentage_vals[j] = (percentage_vals[start[i] - 1] + percentage_vals[end[i]])/2\n",
    "\n",
    "        # Return \n",
    "        # To plot: x_mean_vals, y_mean_vals\n",
    "        # To predict: percentage vals\n",
    "        # X_spaces: used to find X_test data lie in which space\n",
    "        # 1.average(Overall percentage): used to predict \n",
    "        # 2.if X_test data is less than minimum of X_train data (X_test < X_min (train)) or \n",
    "        # 3.X_test data is greater than maximum of X_train data (X_test > X_max (train)).  \n",
    "        # 4.ie if the test data does not lie in spaces it uses overall percentage to predict output.\n",
    "        # A8 B8 (return)\n",
    "        return x_mean_vals, y_mean_vals, percentage_vals, x_spaces, np.mean(overall_percentage)\n",
    "    \n",
    "    except Exception:\n",
    "        print('Kindly pass pandas core series which taken from the pandas dataframe')\n"
   ]
  },
  {
   "cell_type": "code",
   "execution_count": 18,
   "metadata": {},
   "outputs": [],
   "source": [
    "# Pass data through defined function (fit) and get the output. \n",
    "X_mean_values, y_mean_values, percentage_values, x_spaces, total_mean_percentage = fit(X_train, y_train)"
   ]
  },
  {
   "cell_type": "code",
   "execution_count": 19,
   "metadata": {},
   "outputs": [],
   "source": [
    "# Function for testing\n",
    "def predict(x, x_spaces, percentage_vals, tot_mean_perc):\n",
    "    # To store predicted values.\n",
    "    predicted = []\n",
    "    \n",
    "    try:\n",
    "        # --A8 (x_spaces used)\n",
    "        for i in x:\n",
    "            # --A1, --A8 (overall_percentage used)\n",
    "            # B9 (if)\n",
    "            if (i < x_spaces[0]) or (i == x_spaces[0]) or (i > x_spaces[-1]):\n",
    "                predicted.append((tot_mean_perc * i)/100)\n",
    "            \n",
    "            # --A8 (percentage_vals used)\n",
    "            # B10\n",
    "            else:\n",
    "                for j in range(len(x_spaces)-1):\n",
    "                    if (i > x_spaces[j]) & (i < x_spaces[j+1]) or(i == x_spaces[j+1]):\n",
    "                        predicted.append((i * percentage_vals[j])/100)\n",
    "                        \n",
    "        # return predicted output list\n",
    "        return predicted\n",
    "    \n",
    "    except TypeError:\n",
    "        print('Kindly pass pandas core series which taken from the pandas dataframe to fit')\n"
   ]
  },
  {
   "cell_type": "code",
   "execution_count": 20,
   "metadata": {},
   "outputs": [],
   "source": [
    "# Pass data through defined function (predict) and get the output. \n",
    "predict_output = predict(X_test, x_spaces, percentage_values, total_mean_percentage)"
   ]
  },
  {
   "cell_type": "code",
   "execution_count": 21,
   "metadata": {},
   "outputs": [
    {
     "name": "stdout",
     "output_type": "stream",
     "text": [
      "2.796436443038769\n"
     ]
    }
   ],
   "source": [
    "# Print statement to print root mean squared error.\n",
    "print(np.sqrt(mean_squared_error(y_test, predict_output)))"
   ]
  },
  {
   "cell_type": "markdown",
   "metadata": {},
   "source": [
    "---"
   ]
  }
 ],
 "metadata": {
  "kernelspec": {
   "display_name": "Python 3",
   "language": "python",
   "name": "python3"
  },
  "language_info": {
   "codemirror_mode": {
    "name": "ipython",
    "version": 3
   },
   "file_extension": ".py",
   "mimetype": "text/x-python",
   "name": "python",
   "nbconvert_exporter": "python",
   "pygments_lexer": "ipython3",
   "version": "3.8.5"
  }
 },
 "nbformat": 4,
 "nbformat_minor": 4
}
